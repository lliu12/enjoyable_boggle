{
 "cells": [
  {
   "cell_type": "code",
   "execution_count": null,
   "metadata": {},
   "outputs": [],
   "source": [
    "import numpy as np\n",
    "from trie import Node, Trie\n",
    "import time\n",
    "import matplotlib.pyplot as plt\n",
    "import player\n",
    "from boards import alphabet, unif, eng, gen_board_dist, unif, eng, gen_board_dice, gen_board_seed, search_board"
   ]
  },
  {
   "cell_type": "markdown",
   "metadata": {},
   "source": [
    "# Demo Code for \"Generating Enjoyable Boggle Boards Project\""
   ]
  },
  {
   "cell_type": "markdown",
   "metadata": {},
   "source": [
    "## Generating Prefix Trees"
   ]
  },
  {
   "cell_type": "code",
   "execution_count": null,
   "metadata": {},
   "outputs": [],
   "source": [
    "# demo small prefix tree\n",
    "some_words = ['alfalfa', 'alphabet', 'azure', 'abacus', 'alligator', 'alpha', 'arbitrary', 'violin']\n",
    "t = Trie(some_words)"
   ]
  },
  {
   "cell_type": "code",
   "execution_count": null,
   "metadata": {},
   "outputs": [],
   "source": [
    "print(\"Alfalfa: \" + str(t.is_word('alfalfa')))\n",
    "print(\"Alfalfaz: \" + str(t.is_word('alfalfaz')))\n",
    "print(\"Alfalf: \" + str(t.is_word('alfalf')))\n",
    "print(\"Al: \" + str(t.is_word('al')))\n",
    "print(\"Alpha: \" + str(t.is_word('alpha')))"
   ]
  },
  {
   "cell_type": "code",
   "execution_count": null,
   "metadata": {},
   "outputs": [],
   "source": [
    "# build prefix tree for actual dictionary\n",
    "dict_words = np.loadtxt(\"smaller_dict.txt\", dtype = str)\n",
    "alphadict = Trie(dict_words)"
   ]
  },
  {
   "cell_type": "code",
   "execution_count": null,
   "metadata": {},
   "outputs": [],
   "source": [
    "print(\"Jump: \" + str(alphadict.is_word('jump')))\n",
    "print(\"Sto: \" + str(alphadict.is_word('sto')))\n",
    "print(\"Grai: \" + str(alphadict.is_word('grai')))\n",
    "print(\"Cow: \" + str(alphadict.is_word('cow')))\n",
    "print(\"Alphabr: \" + str(alphadict.is_word('alphabr')))"
   ]
  },
  {
   "cell_type": "markdown",
   "metadata": {},
   "source": [
    "## Generating Boards"
   ]
  },
  {
   "cell_type": "code",
   "execution_count": null,
   "metadata": {},
   "outputs": [],
   "source": [
    "# sample board generated from Uniform Distribution Drawing algorithm\n",
    "gen_board_dist(unif)"
   ]
  },
  {
   "cell_type": "code",
   "execution_count": null,
   "metadata": {},
   "outputs": [],
   "source": [
    "# sample board generated from English-Based Distribution Drawing algorithm\n",
    "gen_board_dist(eng)"
   ]
  },
  {
   "cell_type": "code",
   "execution_count": null,
   "metadata": {},
   "outputs": [],
   "source": [
    "# sample board generated from Die Rolling algorithm\n",
    "gen_board_dice()"
   ]
  },
  {
   "cell_type": "code",
   "execution_count": null,
   "metadata": {},
   "outputs": [],
   "source": [
    "# sample board generated from Seeding algorithm\n",
    "gen_board_seed(words = dict_words)"
   ]
  },
  {
   "cell_type": "markdown",
   "metadata": {},
   "source": [
    "## Searching Boards"
   ]
  },
  {
   "cell_type": "code",
   "execution_count": null,
   "metadata": {},
   "outputs": [],
   "source": [
    "# make a board to search\n",
    "board = gen_board_seed(words = dict_words)\n",
    "board"
   ]
  },
  {
   "cell_type": "code",
   "execution_count": null,
   "metadata": {},
   "outputs": [],
   "source": [
    "search_board(board, alphadict)"
   ]
  },
  {
   "cell_type": "markdown",
   "metadata": {},
   "source": [
    "## Simulating Gameplay"
   ]
  },
  {
   "cell_type": "code",
   "execution_count": null,
   "metadata": {},
   "outputs": [],
   "source": [
    "# a player with skill .75\n",
    "p = player.Player(.75)"
   ]
  },
  {
   "cell_type": "code",
   "execution_count": null,
   "metadata": {},
   "outputs": [],
   "source": [
    "# words found by this player on the board\n",
    "presult = p.play(board)\n",
    "presult"
   ]
  }
 ],
 "metadata": {
  "kernelspec": {
   "display_name": "Python 3",
   "language": "python",
   "name": "python3"
  },
  "language_info": {
   "codemirror_mode": {
    "name": "ipython",
    "version": 3
   },
   "file_extension": ".py",
   "mimetype": "text/x-python",
   "name": "python",
   "nbconvert_exporter": "python",
   "pygments_lexer": "ipython3",
   "version": "3.8.3"
  }
 },
 "nbformat": 4,
 "nbformat_minor": 4
}
